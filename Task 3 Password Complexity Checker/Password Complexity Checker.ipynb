{
 "cells": [
  {
   "cell_type": "code",
   "execution_count": 1,
   "id": "fa36253d-cffa-46d7-b6f4-28652aa88827",
   "metadata": {},
   "outputs": [
    {
     "name": "stdin",
     "output_type": "stream",
     "text": [
      "Enter a password to check its strength:  12345\n"
     ]
    },
    {
     "name": "stdout",
     "output_type": "stream",
     "text": [
      "Password is too short, it should be at least 8 characters.\n"
     ]
    }
   ],
   "source": [
    "def check_password_strength(password):\n",
    "    # Criteria for password strength\n",
    "    length_error = len(password) < 8\n",
    "    digit_error = not any(char.isdigit() for char in password)\n",
    "    uppercase_error = not any(char.isupper() for char in password)\n",
    "    lowercase_error = not any(char.islower() for char in password)\n",
    "    special_error = not any(char in '!@#$%^&*()-+' for char in password)\n",
    "\n",
    "    # Determine the strength based on criteria\n",
    "    if length_error:\n",
    "        return 'Password is too short, it should be at least 8 characters.'\n",
    "    elif digit_error or uppercase_error or lowercase_error or special_error:\n",
    "        feedback = []\n",
    "        if digit_error:\n",
    "            feedback.append('Password should contain at least one digit (0-9).')\n",
    "        if uppercase_error:\n",
    "            feedback.append('Password should contain at least one uppercase letter (A-Z).')\n",
    "        if lowercase_error:\n",
    "            feedback.append('Password should contain at least one lowercase letter (a-z).')\n",
    "        if special_error:\n",
    "            feedback.append('Password should contain at least one special character (!@#$%^&*()-+).')\n",
    "        return ' '.join(feedback)\n",
    "    else:\n",
    "        return 'Password is strong.'\n",
    "\n",
    "def main():\n",
    "    password = input(\"Enter a password to check its strength: \")\n",
    "    strength = check_password_strength(password)\n",
    "    print(strength)\n",
    "\n",
    "if __name__ == \"__main__\":\n",
    "    main()\n"
   ]
  },
  {
   "cell_type": "code",
   "execution_count": null,
   "id": "3c914eb2-e4f4-44e7-9579-1f9f1997af2a",
   "metadata": {},
   "outputs": [],
   "source": []
  }
 ],
 "metadata": {
  "kernelspec": {
   "display_name": "Python 3 (ipykernel)",
   "language": "python",
   "name": "python3"
  },
  "language_info": {
   "codemirror_mode": {
    "name": "ipython",
    "version": 3
   },
   "file_extension": ".py",
   "mimetype": "text/x-python",
   "name": "python",
   "nbconvert_exporter": "python",
   "pygments_lexer": "ipython3",
   "version": "3.8.19"
  }
 },
 "nbformat": 4,
 "nbformat_minor": 5
}
